{
 "cells": [
  {
   "cell_type": "markdown",
   "metadata": {},
   "source": [
    "1. Создать список и заполнить его элементами различных типов данных. Реализовать скрипт проверки типа данных каждого элемента. Использовать функцию type() для проверки типа. Элементы списка можно не запрашивать у пользователя, а указать явно, в программе."
   ]
  },
  {
   "cell_type": "code",
   "execution_count": 1,
   "metadata": {},
   "outputs": [
    {
     "name": "stdout",
     "output_type": "stream",
     "text": [
      "Тип 0-ого элемента списка <class 'int'>\n",
      "Тип 1-ого элемента списка <class 'str'>\n",
      "Тип 2-ого элемента списка <class 'dict'>\n",
      "Тип 3-ого элемента списка <class 'tuple'>\n",
      "Тип 4-ого элемента списка <class 'float'>\n"
     ]
    }
   ],
   "source": [
    "data_type_list = [1, ' ', {1:'a',2:'b'}, (1,2,3), 1.2]\n",
    "for i in range(len(data_type_list)):\n",
    "    print(f'Тип {i}-ого элемента списка {type(data_type_list[i])}')"
   ]
  },
  {
   "cell_type": "markdown",
   "metadata": {},
   "source": [
    "2. Для списка реализовать обмен значений соседних элементов, т.е. Значениями обмениваются элементы с индексами 0 и 1, 2 и 3 и т.д. При нечетном количестве элементов последний сохранить на своем месте. Для заполнения списка элементов необходимо использовать функцию input()."
   ]
  },
  {
   "cell_type": "code",
   "execution_count": 55,
   "metadata": {},
   "outputs": [
    {
     "name": "stdout",
     "output_type": "stream",
     "text": [
      "Введите  список значений любых типов5 8 1 9 4\n"
     ]
    }
   ],
   "source": [
    "data = input('Введите  список значений любых типов')"
   ]
  },
  {
   "cell_type": "code",
   "execution_count": 56,
   "metadata": {},
   "outputs": [],
   "source": [
    "def make_list(data):\n",
    "    i = 0\n",
    "    data_list = []\n",
    "    while i < len(data.split(' ')):\n",
    "        data_list.append(data.split(' ')[i])\n",
    "        i = i + 1\n",
    "    return data_list\n",
    "\n",
    "data = make_list(data)"
   ]
  },
  {
   "cell_type": "code",
   "execution_count": 59,
   "metadata": {},
   "outputs": [
    {
     "data": {
      "text/plain": [
       "['8', '5', '9', '1', '4']"
      ]
     },
     "execution_count": 59,
     "metadata": {},
     "output_type": "execute_result"
    }
   ],
   "source": [
    " def replace_el(data):\n",
    "        \n",
    "    new_list = []\n",
    "    if len(data)%2 == 0:\n",
    "        for i in range (1,len(data),2):\n",
    "            new_list.append(data[i])\n",
    "            new_list.append(data[i-1])\n",
    "        return new_list\n",
    "    else:\n",
    "        for i in range (1,len(data)-1,2):\n",
    "            new_list.append(data[i])\n",
    "            new_list.append(data[i-1])\n",
    "        new_list.append(data[-1])\n",
    "        return new_list       \n",
    "\n",
    "        \n",
    "replace_el(data)       "
   ]
  },
  {
   "cell_type": "markdown",
   "metadata": {},
   "source": [
    "3. Пользователь вводит месяц в виде целого числа от 1 до 12. Сообщить к какому времени года относится месяц (зима, весна, лето, осень). Напишите решения через list и через dict."
   ]
  },
  {
   "cell_type": "code",
   "execution_count": 62,
   "metadata": {},
   "outputs": [
    {
     "name": "stdout",
     "output_type": "stream",
     "text": [
      "Введите номер месяца от 1 до 12 8\n"
     ]
    }
   ],
   "source": [
    "month_number = int(input('Введите номер месяца от 1 до 12 '))\n",
    "\n",
    "def season_idenf(number):\n",
    "    season_list = ['зима', 'весна', 'лето', 'осень']\n",
    "    month_dict = {'зима':[12,1,2], 'весна':[3, 4, 5], 'лето': [6, 7, 8], 'осень': [9, 10, 11]}\n",
    "    for i in range(len(season_list)):\n",
    "        if month_number in month_dict[season_list[i]]:\n",
    "            return(season_list[i])\n",
    "\n",
    "print(f'Ваш месяц относится к времени года - {season_idenf(month_number)}')"
   ]
  },
  {
   "cell_type": "markdown",
   "metadata": {},
   "source": [
    "4. Пользователь вводит строку из нескольких слов, разделённых пробелами. Вывести каждое слово с новой строки. Строки необходимо пронумеровать. Если в слово длинное, выводить только первые 10 букв в слове."
   ]
  },
  {
   "cell_type": "code",
   "execution_count": 91,
   "metadata": {},
   "outputs": [
    {
     "name": "stdout",
     "output_type": "stream",
     "text": [
      "Введите последовательность слов, разделенных пробелами Мама мыла раму\n",
      "1 Мама\n",
      "2 мыла\n",
      "3 раму\n"
     ]
    }
   ],
   "source": [
    "phraze = input('Введите последовательность слов, разделенных пробелами ')\n",
    "i = 0\n",
    "while i < len(phraze.split(' ')):\n",
    "    \n",
    "    print(i+1, phraze.split(' ')[i][:10])\n",
    "    i = i +1"
   ]
  },
  {
   "cell_type": "markdown",
   "metadata": {},
   "source": [
    "5. Реализовать структуру «Рейтинг», представляющую собой не возрастающий набор натуральных чисел. У пользователя необходимо запрашивать новый элемент рейтинга. Если в рейтинге существуют элементы с одинаковыми значениями, то новый элемент с тем же значением должен разместиться после них."
   ]
  },
  {
   "cell_type": "code",
   "execution_count": 1,
   "metadata": {},
   "outputs": [],
   "source": [
    "numbers = [8,7,6,5]\n",
    "def number (numbers):\n",
    "    numbers.append(int(input('Введите любое целое число')))\n",
    "    numbers = sorted(numbers)[::-1]\n",
    "    print(numbers)\n",
    "    return number(numbers)\n",
    "\n",
    "number(numbers)"
   ]
  },
  {
   "cell_type": "code",
   "execution_count": null,
   "metadata": {},
   "outputs": [],
   "source": []
  }
 ],
 "metadata": {
  "kernelspec": {
   "display_name": "Python 3",
   "language": "python",
   "name": "python3"
  },
  "language_info": {
   "codemirror_mode": {
    "name": "ipython",
    "version": 3
   },
   "file_extension": ".py",
   "mimetype": "text/x-python",
   "name": "python",
   "nbconvert_exporter": "python",
   "pygments_lexer": "ipython3",
   "version": "3.7.4"
  }
 },
 "nbformat": 4,
 "nbformat_minor": 2
}
